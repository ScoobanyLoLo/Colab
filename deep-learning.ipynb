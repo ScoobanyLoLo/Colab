{
  "nbformat": 4,
  "nbformat_minor": 0,
  "metadata": {
    "colab": {
      "provenance": [],
      "authorship_tag": "ABX9TyPKKdDs2hgJrwbfOoms8Mss",
      "include_colab_link": true
    },
    "kernelspec": {
      "name": "python3",
      "display_name": "Python 3"
    },
    "language_info": {
      "name": "python"
    }
  },
  "cells": [
    {
      "cell_type": "markdown",
      "metadata": {
        "id": "view-in-github",
        "colab_type": "text"
      },
      "source": [
        "<a href=\"https://colab.research.google.com/github/ScoobanyLoLo/Colab/blob/main/deep-learning.ipynb\" target=\"_parent\"><img src=\"https://colab.research.google.com/assets/colab-badge.svg\" alt=\"Open In Colab\"/></a>"
      ]
    },
    {
      "cell_type": "code",
      "execution_count": 1,
      "metadata": {
        "id": "-lTayo7VEFrY"
      },
      "outputs": [],
      "source": [
        "import os\n",
        "import datetime\n",
        "import IPython\n",
        "import IPython.display\n",
        "import matplotlib as mpl\n",
        "import matplotlib.pyplot as plt\n",
        "import numpy as np\n",
        "import pandas as pd\n",
        "import seaborn as sns\n",
        "import tensorflow as tf\n",
        "# Konfiguracja wyglądu wykresów: rozmiar i brak siatki\n",
        "mpl.rcParams['figure.figsize'] = (8, 6)\n",
        "mpl.rcParams['axes.grid'] = False"
      ]
    },
    {
      "cell_type": "code",
      "source": [
        "import tensorflow as tf\n",
        "import pandas as pd\n",
        "import os\n",
        "import zipfile\n",
        "# Pobieramy spakowany zbiór danych pogodowych\n",
        "zip_path = tf.keras.utils.get_file(\n",
        "origin='https://storage.googleapis.com/tensorflow/tf-keras-datasets/jena_climate_2009_2016.csv.zip',\n",
        "fname='jena_climate_2009_2016.csv.zip',\n",
        "extract=False # NIE rozpakowujemy automatycznie\n",
        ")\n",
        "# Ścieżka do katalogu, gdzie zapisano plik\n",
        "extract_path = os.path.dirname(zip_path)\n",
        "# Ręcznie rozpakowujemy plik ZIP\n",
        "with zipfile.ZipFile(zip_path, 'r') as zip_ref:\n",
        "  zip_ref.extractall(extract_path)\n",
        "# Uzyskujemy poprawną ścieżkę do pliku CSV\n",
        "csv_path = os.path.join(extract_path, 'jena_climate_2009_2016.csv')\n",
        "# TEST: sprawdzamy, czy plik CSV istnieje\n",
        "assert os.path.exists(csv_path), f\"Plik {csv_path} nie istnieje!\"\n",
        "# Wczytujemy dane z pliku CSV do obiektu DataFrame\n",
        "df = pd.read_csv(csv_path)\n",
        "# Redukujemy zbiór danych, wybierając co 6-ty pomiar (zachowujemy tylko 1 pomiar na godzinę)\n",
        "df = df[5::6]\n",
        "# Konwertujemy kolumnę 'Date Time' na typ datetime i usuwamy ją z oryginalnej ramki danych"
      ],
      "metadata": {
        "colab": {
          "base_uri": "https://localhost:8080/"
        },
        "id": "-5L-fMZIEMsi",
        "outputId": "4916af53-9d45-4858-af97-7bf555d321af"
      },
      "execution_count": 3,
      "outputs": [
        {
          "output_type": "stream",
          "name": "stdout",
          "text": [
            "Downloading data from https://storage.googleapis.com/tensorflow/tf-keras-datasets/jena_climate_2009_2016.csv.zip\n",
            "\u001b[1m13568290/13568290\u001b[0m \u001b[32m━━━━━━━━━━━━━━━━━━━━\u001b[0m\u001b[37m\u001b[0m \u001b[1m1s\u001b[0m 0us/step\n"
          ]
        }
      ]
    }
  ]
}